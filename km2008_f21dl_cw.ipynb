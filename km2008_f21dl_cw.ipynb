{
 "cells": [
  {
   "cell_type": "markdown",
   "source": [
    "Kyle Mckay - F21DL Coursework Portfolio\n",
    "===\n",
    "\n",
    "1. [Data Set Choice](#h1)\n",
    "2. [Visualization and Initial Data Exploration](#h2)\n",
    "    1. [Class Distribution](#h2_1)\n",
    "    2. [Image Size Distribution](#h2_2)\n",
    "    3. [Image Preprocessing](#h2_3)\n",
    "    1. [Direct Comparison](#h2_4)\n",
    "    2. [Conversion to Pixel Data](#h2_5)\n",
    "    3. [Average Images](#h2_6)\n",
    "    4. [Standard Deviation](#h2_7)\n",
    "3. [Acknowledgement](#ack)"
   ],
   "metadata": {}
  },
  {
   "cell_type": "markdown",
   "source": [
    "# Setup"
   ],
   "metadata": {}
  },
  {
   "cell_type": "code",
   "execution_count": 1,
   "source": [
    "%matplotlib inline\n",
    "import os\n",
    "import cv2\n",
    "import numpy as np\n",
    "import pandas as pd\n",
    "import matplotlib.pyplot as plt"
   ],
   "outputs": [],
   "metadata": {}
  },
  {
   "cell_type": "markdown",
   "source": [
    "Initalise variables and functions used throughout the notebook"
   ],
   "metadata": {}
  },
  {
   "cell_type": "code",
   "execution_count": 2,
   "source": [
    "data_dir = 'DATA' \n",
    "img_dir = f'{data_dir}/images'\n",
    "\n",
    "# Utility method to plot numpy greyscale pixel matrices side by side for comparison\n",
    "def multi_plot(*imgs):\n",
    "    fig = plt.figure()\n",
    "\n",
    "    # TODO add multiple rows if many images\n",
    "    for i, avg in enumerate(imgs, 1):\n",
    "        title, dat = avg\n",
    "        ax = fig.add_subplot(1, len(imgs), i)\n",
    "        ax.imshow(dat, vmin=0, vmax=255, cmap='Greys_r')\n",
    "        plt.title(title)\n",
    "        plt.axis('off')\n",
    "    \n",
    "    plt.show()\n",
    "\n",
    "# Functional approach to collapsing 3rd order numpy greyscale pixel tensors using certain methods (e.g. mean)\n",
    "def collapse_img(full_mat, fn = np.mean, size = (300, 180)):\n",
    "    # Apply desired function\n",
    "    collapsed_img = fn(full_mat, axis = 0)\n",
    "    \n",
    "    # Reshap back to a matrix\n",
    "    return collapsed_img.reshape(size)"
   ],
   "outputs": [],
   "metadata": {}
  },
  {
   "cell_type": "markdown",
   "source": [
    "# <a id=\"h1\">Data Set Choice</a>\n",
    "\n",
    "I chose to work with the FGVC-Aircraft data set (Maji et al.) because:\n",
    "\n",
    "- It is an image dataset and I'm interested in computer vision and image processing techniques.\n",
    "- The data set is intended for use as a multiclass classification problem, which provides an interesting level of complexity above binary classification and below multi-label classification.\n",
    "- There is granularity to the classes in the data set. With 41 manufacturers providing plenty of instances (image files) to work with for each.\n",
    "- The images are not provided in a uniform size or aspect ratio, which adds some complexity to homogenising and reducing the data in preprocessing to meet computational constraints.\n",
    "- The data provenance is clearly stated and acceptable for my research/learning purposes."
   ],
   "metadata": {}
  },
  {
   "cell_type": "markdown",
   "source": [
    "# <a id=\"h2\">Visualization and Initial Data Exploration</a>\n",
    "\n",
    "## <a id=\"h2_1\">Class Distribution</a>\n",
    "\n",
    "I first want to get a sense for the number of instances there are per manufacturer since I know there are 100 images per aircraft model (the highest level of granularity), but have no sense for how evenly distributed those are among the lower class granularity levels.\n",
    "\n",
    "This is important since for training purposes I want my data to have an approximately even distribution to avoid biasing classification results."
   ],
   "metadata": {}
  },
  {
   "cell_type": "code",
   "execution_count": 3,
   "source": [
    "# Data set provides text files listing the label that applies to each image\n",
    "img_labels = pd.read_csv(\n",
    "    f'{data_dir}/images_manufacturer_train.txt',\n",
    "    sep=' ', header=None, \n",
    "    names=['image', 'class'],\n",
    "    skip_blank_lines=True,\n",
    "    # Image ID will be used as the index for row access\n",
    "    index_col='image'\n",
    ")\n",
    "print(f'{img_labels.shape[0]} instances in the sample')\n",
    "img_labels.head()"
   ],
   "outputs": [
    {
     "output_type": "stream",
     "name": "stdout",
     "text": [
      "3334 instances in the sample\n"
     ]
    },
    {
     "output_type": "execute_result",
     "data": {
      "text/html": [
       "<div>\n",
       "<style scoped>\n",
       "    .dataframe tbody tr th:only-of-type {\n",
       "        vertical-align: middle;\n",
       "    }\n",
       "\n",
       "    .dataframe tbody tr th {\n",
       "        vertical-align: top;\n",
       "    }\n",
       "\n",
       "    .dataframe thead th {\n",
       "        text-align: right;\n",
       "    }\n",
       "</style>\n",
       "<table border=\"1\" class=\"dataframe\">\n",
       "  <thead>\n",
       "    <tr style=\"text-align: right;\">\n",
       "      <th></th>\n",
       "      <th>class</th>\n",
       "    </tr>\n",
       "    <tr>\n",
       "      <th>image</th>\n",
       "      <th></th>\n",
       "    </tr>\n",
       "  </thead>\n",
       "  <tbody>\n",
       "    <tr>\n",
       "      <th>1025794</th>\n",
       "      <td>Boeing</td>\n",
       "    </tr>\n",
       "    <tr>\n",
       "      <th>1340192</th>\n",
       "      <td>Boeing</td>\n",
       "    </tr>\n",
       "    <tr>\n",
       "      <th>56978</th>\n",
       "      <td>Boeing</td>\n",
       "    </tr>\n",
       "    <tr>\n",
       "      <th>698580</th>\n",
       "      <td>Boeing</td>\n",
       "    </tr>\n",
       "    <tr>\n",
       "      <th>450014</th>\n",
       "      <td>Boeing</td>\n",
       "    </tr>\n",
       "  </tbody>\n",
       "</table>\n",
       "</div>"
      ],
      "text/plain": [
       "          class\n",
       "image          \n",
       "1025794  Boeing\n",
       "1340192  Boeing\n",
       "56978    Boeing\n",
       "698580   Boeing\n",
       "450014   Boeing"
      ]
     },
     "metadata": {},
     "execution_count": 3
    }
   ],
   "metadata": {}
  },
  {
   "cell_type": "code",
   "execution_count": 4,
   "source": [
    "# Interested in classes with at least 100 instances (reasonable quantity)\n",
    "class_counts = img_labels['class'].value_counts()\n",
    "class_counts = class_counts[class_counts >= 100]\n",
    "class_counts"
   ],
   "outputs": [
    {
     "output_type": "execute_result",
     "data": {
      "text/plain": [
       "Boeing       733\n",
       "Airbus       434\n",
       "Embraer      233\n",
       "McDonnell    232\n",
       "de           167\n",
       "Canadair     134\n",
       "British      133\n",
       "Cessna       133\n",
       "Douglas      133\n",
       "Lockheed     102\n",
       "Fokker       100\n",
       "Name: class, dtype: int64"
      ]
     },
     "metadata": {},
     "execution_count": 4
    }
   ],
   "metadata": {}
  },
  {
   "cell_type": "markdown",
   "source": [
    "Evidently there is not an even distribution of the manufacturer classes. First I drop all the classes with an insufficient number of instances. This achieves two desired outcomes:\n",
    "\n",
    "- I want a reasonable minimum amount of data to work with for each class to avoid underfitting the data.\n",
    "- I want to reduce the overall number of classes to simplify things while learning and reduce the amount of data being processed to meet computational constraints.\n",
    "\n",
    "I'll also want to drop instances of each class so that there's an even distribution, but to be smart about how I do that I first want to inspect the image sizes I'm working with.\n"
   ],
   "metadata": {}
  },
  {
   "cell_type": "code",
   "execution_count": 5,
   "source": [
    "# Only interested in images with sufficient number of class instances\n",
    "all_imgs = img_labels.copy()\n",
    "all_imgs = all_imgs[img_labels['class'].isin(class_counts.keys())]"
   ],
   "outputs": [],
   "metadata": {}
  },
  {
   "cell_type": "markdown",
   "source": [
    "## <a id=\"h2_2\">Image Size Distribution</a>\n",
    "\n",
    "I next want to get a sense for how homogeneous the images are in terms of their dimensions and aspect ratio. This is relevant to check if preprocessing needs to be done and, if so, which approach I will take."
   ],
   "metadata": {}
  },
  {
   "cell_type": "code",
   "execution_count": 6,
   "source": [
    "# Scanning all image sizes is fairly slow, so results are saved for future runs\n",
    "dims_csv = f'{data_dir}/images_dims.csv'\n",
    "if (os.path.isfile(dims_csv)):\n",
    "    img_sizes = pd.read_csv(dims_csv, index_col='image')\n",
    "else:\n",
    "    tmp = []\n",
    "    for fn in all_imgs.index:\n",
    "        # Image names are 0 padded to 7 digits\n",
    "        img = cv2.imread(f'{img_dir}/{fn:07}.jpg')\n",
    "\n",
    "        if img is None:\n",
    "            print(f'Missing file {fn}.jpg')\n",
    "\n",
    "        # First 2 dimensions are height and width\n",
    "        h, w = img.shape[:2]\n",
    "\n",
    "        # All images contain 20px high bottom banner\n",
    "        tmp.append((fn, h - 20, w, round(w/h, 2)))\n",
    "\n",
    "    img_sizes = pd.DataFrame(tmp, columns=['image', 'height', 'width', 'a_ratio'])\n",
    "    img_sizes.set_index('image', inplace=True)\n",
    "\n",
    "    img_sizes.to_csv(dims_csv)\n",
    "\n",
    "all_imgs = all_imgs.merge(img_sizes, on='image')\n",
    "all_imgs[['height', 'width', 'a_ratio']].describe()"
   ],
   "outputs": [
    {
     "output_type": "execute_result",
     "data": {
      "text/html": [
       "<div>\n",
       "<style scoped>\n",
       "    .dataframe tbody tr th:only-of-type {\n",
       "        vertical-align: middle;\n",
       "    }\n",
       "\n",
       "    .dataframe tbody tr th {\n",
       "        vertical-align: top;\n",
       "    }\n",
       "\n",
       "    .dataframe thead th {\n",
       "        text-align: right;\n",
       "    }\n",
       "</style>\n",
       "<table border=\"1\" class=\"dataframe\">\n",
       "  <thead>\n",
       "    <tr style=\"text-align: right;\">\n",
       "      <th></th>\n",
       "      <th>height</th>\n",
       "      <th>width</th>\n",
       "      <th>a_ratio</th>\n",
       "    </tr>\n",
       "  </thead>\n",
       "  <tbody>\n",
       "    <tr>\n",
       "      <th>count</th>\n",
       "      <td>2534.000000</td>\n",
       "      <td>2534.000000</td>\n",
       "      <td>2534.000000</td>\n",
       "    </tr>\n",
       "    <tr>\n",
       "      <th>mean</th>\n",
       "      <td>731.729282</td>\n",
       "      <td>1105.763220</td>\n",
       "      <td>1.471728</td>\n",
       "    </tr>\n",
       "    <tr>\n",
       "      <th>std</th>\n",
       "      <td>116.229313</td>\n",
       "      <td>168.916645</td>\n",
       "      <td>0.055068</td>\n",
       "    </tr>\n",
       "    <tr>\n",
       "      <th>min</th>\n",
       "      <td>414.000000</td>\n",
       "      <td>775.000000</td>\n",
       "      <td>1.310000</td>\n",
       "    </tr>\n",
       "    <tr>\n",
       "      <th>25%</th>\n",
       "      <td>673.000000</td>\n",
       "      <td>1024.000000</td>\n",
       "      <td>1.460000</td>\n",
       "    </tr>\n",
       "    <tr>\n",
       "      <th>50%</th>\n",
       "      <td>680.000000</td>\n",
       "      <td>1024.000000</td>\n",
       "      <td>1.470000</td>\n",
       "    </tr>\n",
       "    <tr>\n",
       "      <th>75%</th>\n",
       "      <td>792.000000</td>\n",
       "      <td>1200.000000</td>\n",
       "      <td>1.480000</td>\n",
       "    </tr>\n",
       "    <tr>\n",
       "      <th>max</th>\n",
       "      <td>1168.000000</td>\n",
       "      <td>1600.000000</td>\n",
       "      <td>1.950000</td>\n",
       "    </tr>\n",
       "  </tbody>\n",
       "</table>\n",
       "</div>"
      ],
      "text/plain": [
       "            height        width      a_ratio\n",
       "count  2534.000000  2534.000000  2534.000000\n",
       "mean    731.729282  1105.763220     1.471728\n",
       "std     116.229313   168.916645     0.055068\n",
       "min     414.000000   775.000000     1.310000\n",
       "25%     673.000000  1024.000000     1.460000\n",
       "50%     680.000000  1024.000000     1.470000\n",
       "75%     792.000000  1200.000000     1.480000\n",
       "max    1168.000000  1600.000000     1.950000"
      ]
     },
     "metadata": {},
     "execution_count": 6
    }
   ],
   "metadata": {}
  },
  {
   "cell_type": "markdown",
   "source": [
    "It's immediately obvious that the images vary by a factor of ~2 in width and ~3 in height. They will need to be homogenised to a standard size so that the features (pixels) corrolate for later processing.\n",
    "\n",
    "There are a two approaches to consider:\n",
    "\n",
    "- Destructive resizing\n",
    "- Non-destructive resizing (cropping and padding)\n",
    "\n",
    "Before deciding which approach to take, I can also explore the size distribution of provided bounding boxes for the aircraft in each image since they could be used for cropping."
   ],
   "metadata": {}
  },
  {
   "cell_type": "code",
   "execution_count": 7,
   "source": [
    "# Bounding boxes given as pixels for top left and bottom right corner\n",
    "# x is from left, y is from top\n",
    "img_bbs = pd.read_csv(\n",
    "    f'{data_dir}/images_box.txt',\n",
    "    sep=' ', header=None, \n",
    "    names=['image', 'bb_lx', 'bb_ly', 'bb_rx', 'bb_ry'],\n",
    "    skip_blank_lines=True,\n",
    "    index_col='image'\n",
    ")\n",
    "\n",
    "# Only care about images of interest\n",
    "img_bbs = img_bbs[img_bbs.index.isin(all_imgs.index)]\n",
    "\n",
    "img_bbs['bb_height'] = img_bbs['bb_ry'] - img_bbs['bb_ly']\n",
    "img_bbs['bb_width'] = img_bbs['bb_rx'] - img_bbs['bb_lx']\n",
    "img_bbs['bb_a_ratio'] = round(img_bbs['bb_width'] / img_bbs['bb_height'], 2)\n",
    "\n",
    "all_imgs = all_imgs.merge(img_bbs, on='image')\n",
    "\n",
    "all_imgs[['height', 'width', 'a_ratio', 'bb_height', 'bb_width', 'bb_a_ratio']].describe()"
   ],
   "outputs": [
    {
     "output_type": "execute_result",
     "data": {
      "text/html": [
       "<div>\n",
       "<style scoped>\n",
       "    .dataframe tbody tr th:only-of-type {\n",
       "        vertical-align: middle;\n",
       "    }\n",
       "\n",
       "    .dataframe tbody tr th {\n",
       "        vertical-align: top;\n",
       "    }\n",
       "\n",
       "    .dataframe thead th {\n",
       "        text-align: right;\n",
       "    }\n",
       "</style>\n",
       "<table border=\"1\" class=\"dataframe\">\n",
       "  <thead>\n",
       "    <tr style=\"text-align: right;\">\n",
       "      <th></th>\n",
       "      <th>height</th>\n",
       "      <th>width</th>\n",
       "      <th>a_ratio</th>\n",
       "      <th>bb_height</th>\n",
       "      <th>bb_width</th>\n",
       "      <th>bb_a_ratio</th>\n",
       "    </tr>\n",
       "  </thead>\n",
       "  <tbody>\n",
       "    <tr>\n",
       "      <th>count</th>\n",
       "      <td>2534.000000</td>\n",
       "      <td>2534.000000</td>\n",
       "      <td>2534.000000</td>\n",
       "      <td>2534.000000</td>\n",
       "      <td>2534.000000</td>\n",
       "      <td>2534.000000</td>\n",
       "    </tr>\n",
       "    <tr>\n",
       "      <th>mean</th>\n",
       "      <td>731.729282</td>\n",
       "      <td>1105.763220</td>\n",
       "      <td>1.471728</td>\n",
       "      <td>348.535122</td>\n",
       "      <td>1059.460537</td>\n",
       "      <td>3.216760</td>\n",
       "    </tr>\n",
       "    <tr>\n",
       "      <th>std</th>\n",
       "      <td>116.229313</td>\n",
       "      <td>168.916645</td>\n",
       "      <td>0.055068</td>\n",
       "      <td>107.220440</td>\n",
       "      <td>188.322939</td>\n",
       "      <td>0.748342</td>\n",
       "    </tr>\n",
       "    <tr>\n",
       "      <th>min</th>\n",
       "      <td>414.000000</td>\n",
       "      <td>775.000000</td>\n",
       "      <td>1.310000</td>\n",
       "      <td>65.000000</td>\n",
       "      <td>151.000000</td>\n",
       "      <td>0.620000</td>\n",
       "    </tr>\n",
       "    <tr>\n",
       "      <th>25%</th>\n",
       "      <td>673.000000</td>\n",
       "      <td>1024.000000</td>\n",
       "      <td>1.460000</td>\n",
       "      <td>275.000000</td>\n",
       "      <td>981.000000</td>\n",
       "      <td>2.750000</td>\n",
       "    </tr>\n",
       "    <tr>\n",
       "      <th>50%</th>\n",
       "      <td>680.000000</td>\n",
       "      <td>1024.000000</td>\n",
       "      <td>1.470000</td>\n",
       "      <td>329.000000</td>\n",
       "      <td>1004.500000</td>\n",
       "      <td>3.200000</td>\n",
       "    </tr>\n",
       "    <tr>\n",
       "      <th>75%</th>\n",
       "      <td>792.000000</td>\n",
       "      <td>1200.000000</td>\n",
       "      <td>1.480000</td>\n",
       "      <td>397.000000</td>\n",
       "      <td>1173.000000</td>\n",
       "      <td>3.710000</td>\n",
       "    </tr>\n",
       "    <tr>\n",
       "      <th>max</th>\n",
       "      <td>1168.000000</td>\n",
       "      <td>1600.000000</td>\n",
       "      <td>1.950000</td>\n",
       "      <td>848.000000</td>\n",
       "      <td>1587.000000</td>\n",
       "      <td>7.540000</td>\n",
       "    </tr>\n",
       "  </tbody>\n",
       "</table>\n",
       "</div>"
      ],
      "text/plain": [
       "            height        width      a_ratio    bb_height     bb_width  \\\n",
       "count  2534.000000  2534.000000  2534.000000  2534.000000  2534.000000   \n",
       "mean    731.729282  1105.763220     1.471728   348.535122  1059.460537   \n",
       "std     116.229313   168.916645     0.055068   107.220440   188.322939   \n",
       "min     414.000000   775.000000     1.310000    65.000000   151.000000   \n",
       "25%     673.000000  1024.000000     1.460000   275.000000   981.000000   \n",
       "50%     680.000000  1024.000000     1.470000   329.000000  1004.500000   \n",
       "75%     792.000000  1200.000000     1.480000   397.000000  1173.000000   \n",
       "max    1168.000000  1600.000000     1.950000   848.000000  1587.000000   \n",
       "\n",
       "        bb_a_ratio  \n",
       "count  2534.000000  \n",
       "mean      3.216760  \n",
       "std       0.748342  \n",
       "min       0.620000  \n",
       "25%       2.750000  \n",
       "50%       3.200000  \n",
       "75%       3.710000  \n",
       "max       7.540000  "
      ]
     },
     "metadata": {},
     "execution_count": 7
    }
   ],
   "metadata": {}
  },
  {
   "cell_type": "markdown",
   "source": [
    "Since my end goal is to preprocess all images to the same dimensions (ideally maintaining their original resolution), I need to look at the largest bounding box dimensions and check if they fit within the smallest image dimensions. If they do then I can simply crop all images to the same size.\n",
    "\n",
    "The height dimensions look promising as only the upper 25% of bounding boxes won't fit and those instances could be dropped from the sample. However, the width dimensions reveal that around 50% of images will only be large enough to contain \n",
    "\n",
    "$$\n",
    "x = 50 + \\frac{(1024 - 1004.5) (75 - 50) }{(1173 - 1004.5)}\n",
    "\n",
    "  = 52.89\\%\n",
    "$$\n",
    "\n",
    "of bounding boxes.\n",
    "\n",
    "### **Conclusion**\n",
    "\n",
    "\n",
    "For simplicity during the early stages of learning and exploring the data, I will just destructively resize the images down to match the smallest aspect ratio since I can see that all image aspect ratios are within 50% of the smallest in the sample. This is reflected in the scatter plot of their dimensions (below) by the short distance of all points to the clear trendline (mean aspect ratio)."
   ],
   "metadata": {}
  },
  {
   "cell_type": "code",
   "execution_count": 8,
   "source": [
    "fig = plt.figure()\n",
    "ax = fig.add_subplot()\n",
    "ax.set_title('Image Resolution')\n",
    "ax.set_xlabel('Width')\n",
    "ax.set_ylabel('Height')\n",
    "pts = ax.scatter(all_imgs.width, all_imgs.height, s=all_imgs.a_ratio * 100, alpha=0.5)"
   ],
   "outputs": [
    {
     "output_type": "display_data",
     "data": {
      "image/png": "[encoded data removed]",
      "text/plain": [
       "<Figure size 432x288 with 1 Axes>"
      ]
     },
     "metadata": {
      "needs_background": "light"
     }
    }
   ],
   "metadata": {}
  },
  {
   "cell_type": "markdown",
   "source": [
    "## <a id=\"h2_3\">Image Preprocessing</a>\n",
    "\n",
    "As decided based on exploration of image sizes above, I will be destructively scaling images down.\n",
    "\n",
    "However, before getting to that I'm going to return to the idea of dropping images per class to even out the class distribution. Now that I know I will be destructively resizing them I'll want to drop the images with an aspect ratio furthest from the target of 1.31 first since those would be subject to the most distortion."
   ],
   "metadata": {}
  },
  {
   "cell_type": "code",
   "execution_count": 9,
   "source": [
    "# Sorting makes dropping largest simple\n",
    "all_imgs.sort_values('a_ratio', inplace=True)\n",
    "\n",
    "# Will drop to 100 instances per class\n",
    "for cl in all_imgs['class'].unique():\n",
    "    cl_view = all_imgs[all_imgs['class'] == cl]\n",
    "\n",
    "    # End of list are largest ratios\n",
    "    to_drop = cl_view.tail(cl_view.shape[0] - 100)\n",
    "\n",
    "    all_imgs.drop(index=to_drop.index, inplace=True)\n",
    "\n",
    "all_imgs.value_counts('class')"
   ],
   "outputs": [
    {
     "output_type": "execute_result",
     "data": {
      "text/plain": [
       "class\n",
       "Airbus       100\n",
       "Boeing       100\n",
       "British      100\n",
       "Canadair     100\n",
       "Cessna       100\n",
       "Douglas      100\n",
       "Embraer      100\n",
       "Fokker       100\n",
       "Lockheed     100\n",
       "McDonnell    100\n",
       "de           100\n",
       "dtype: int64"
      ]
     },
     "metadata": {},
     "execution_count": 9
    }
   ],
   "metadata": {}
  },
  {
   "cell_type": "markdown",
   "source": [
    "\n",
    "## <a id=\"h2_4\">Direct Comparison</a>\n",
    "\n",
    "The following code pulls 3 random sample images from each class for an initial direct visual comparison.\n",
    "\n",
    "It's clear from a quick visual inspection that the pollen carrying bees have distinct features (the pollen) on either side of their abdomen which isn't present in the other images. This suggests to me it should be fine to process the images in greyscale and reduce the number of features for efficiency since they should still be distinguishable."
   ],
   "metadata": {}
  },
  {
   "cell_type": "markdown",
   "source": [
    "## <a id=\"h2_5\">Conversion to Pixel Data</a>\n",
    "\n",
    "The following script is converting greyscale versions of the image files into a 3rd order tensor with $n\\times m$ elements. $n$ is the number of observations and $m$ is the number of pixels (features). The element values represent the pixel shade."
   ],
   "metadata": {}
  },
  {
   "cell_type": "markdown",
   "source": [
    "## <a id=\"h2_6\">Average Images</a>\n",
    "\n",
    "By averaging the pixel data for all of a given class, I can get a sense for the regions which are common to each class. It's not as clear as before, but there's still an obvious presence on either side of the abdomen for the pollen carrying class which isn't present in the other images."
   ],
   "metadata": {}
  },
  {
   "cell_type": "markdown",
   "source": [
    "### Average Images Difference\n",
    "\n",
    "The difference between the classes becomes clearer by taking the difference of these two averaged images. Now it's much more obvious that one class (pollen carrier) has a distinct region of pixels in the lower left and a less distinct region in the lower right."
   ],
   "metadata": {}
  },
  {
   "cell_type": "markdown",
   "source": [
    "## <a id=\"h2_7\">Standard Deviation</a>\n",
    "\n",
    "To get a sense of the pixel regions which vary the most in each class, the same reasoning of averaging can be applied, but instead taking the standard deviation. The resulting images aren't as clear, but here I can see a lot more varience in those lower left and right regions for the pollen carrying class. This reinforces my understanding of the data."
   ],
   "metadata": {}
  },
  {
   "cell_type": "markdown",
   "source": [
    "# <a id=\"ack\">Acknowledgement</a>\n",
    "\n",
    "- FGVC-Aircraft data set\n",
    "    - Fine-Grained Visual Classification of Aircraft, S. Maji, J. Kannala, E. Rahtu, M. Blaschko, A. Vedaldi, [arXiv.org](https://arxiv.org/abs/1306.5151), 2013\n",
    "- Image resizing resources\n",
    "    - [https://blog.roboflow.com/you-might-be-resizing-your-images-incorrectly](https://blog.roboflow.com/you-might-be-resizing-your-images-incorrectly)\n",
    "- Image data exploration resources\n",
    "    - [https://towardsdatascience.com/exploratory-data-analysis-ideas-for-image-classification-d3fc6bbfb2d2](https://towardsdatascience.com/exploratory-data-analysis-ideas-for-image-classification-d3fc6bbfb2d2)"
   ],
   "metadata": {}
  }
 ],
 "metadata": {
  "orig_nbformat": 4,
  "language_info": {
   "name": "python",
   "version": "3.9.7",
   "mimetype": "text/x-python",
   "codemirror_mode": {
    "name": "ipython",
    "version": 3
   },
   "pygments_lexer": "ipython3",
   "nbconvert_exporter": "python",
   "file_extension": ".py"
  },
  "kernelspec": {
   "name": "python3",
   "display_name": "Python 3.9.7 64-bit ('dmml': conda)"
  },
  "interpreter": {
   "hash": "238e84a50bd85e6896fa827f44429e675207169bc4aaa396c9b81005f50b7995"
  }
 },
 "nbformat": 4,
 "nbformat_minor": 2
}