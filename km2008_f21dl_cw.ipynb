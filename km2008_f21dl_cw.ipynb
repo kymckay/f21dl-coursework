{
 "cells": [
  {
   "cell_type": "markdown",
   "source": [
    "Kyle Mckay - F21DL Coursework Portfolio\n",
    "===\n",
    "\n",
    "1. [Data Set Choice](#h1)\n",
    "2. [Visualization and Initial Data Exploration](#h2)\n",
    "    1. [Class Distribution](#h2_0)\n",
    "    1. [Direct Comparison](#h2_1)\n",
    "    2. [Conversion to Pixel Data](#h2_2)\n",
    "    3. [Average Images](#h2_3)\n",
    "    4. [Standard Deviation](#h2_4)\n",
    "3. [Acknowledgement](#ack)"
   ],
   "metadata": {}
  },
  {
   "cell_type": "markdown",
   "source": [
    "# Setup"
   ],
   "metadata": {}
  },
  {
   "cell_type": "code",
   "execution_count": 18,
   "source": [
    "%matplotlib inline\n",
    "import os\n",
    "import numpy as np\n",
    "import pandas as pd\n",
    "import matplotlib.pyplot as plt\n",
    "from tensorflow.keras.preprocessing import image"
   ],
   "outputs": [],
   "metadata": {}
  },
  {
   "cell_type": "markdown",
   "source": [
    "Initalise variables and functions used throughout the notebook"
   ],
   "metadata": {}
  },
  {
   "cell_type": "code",
   "execution_count": 19,
   "source": [
    "data_dir = 'DATA' \n",
    "img_dir = f'{data_dir}/images'\n",
    "\n",
    "# Utility method to plot numpy greyscale pixel matrices side by side for comparison\n",
    "def multi_plot(*imgs):\n",
    "    fig = plt.figure()\n",
    "\n",
    "    # TODO add multiple rows if many images\n",
    "    for i, avg in enumerate(imgs, 1):\n",
    "        title, dat = avg\n",
    "        ax = fig.add_subplot(1, len(imgs), i)\n",
    "        ax.imshow(dat, vmin=0, vmax=255, cmap='Greys_r')\n",
    "        plt.title(title)\n",
    "        plt.axis('off')\n",
    "    \n",
    "    plt.show()\n",
    "\n",
    "# Functional approach to collapsing 3rd order numpy greyscale pixel tensors using certain methods (e.g. mean)\n",
    "def collapse_img(full_mat, fn = np.mean, size = (300, 180)):\n",
    "    # Apply desired function\n",
    "    collapsed_img = fn(full_mat, axis = 0)\n",
    "    \n",
    "    # Reshap back to a matrix\n",
    "    return collapsed_img.reshape(size)"
   ],
   "outputs": [],
   "metadata": {}
  },
  {
   "cell_type": "markdown",
   "source": [
    "# <a id=\"h1\">Data Set Choice</a>\n",
    "\n",
    "I chose to work with the FGVC-Aircraft data set (Maji et al.) because:\n",
    "\n",
    "- It is an image dataset and I'm interested in computer vision and image processing techniques.\n",
    "- The data set is intended for use as a multiclass classification problem, which provides an interesting level of complexity above binary classification and below multi-label classification.\n",
    "- There is granularity to the classes in the data set. With 41 manufacturers providing plenty of instances (image files) to work with for each.\n",
    "- The images are not provided in a uniform size or aspect ratio, which adds some complexity to homogenising and reducing the data in preprocessing to meet computational constraints.\n",
    "- The data provenance is clearly stated and acceptable for my research/learning purposes."
   ],
   "metadata": {}
  },
  {
   "cell_type": "markdown",
   "source": [
    "# <a id=\"h2\">Visualization and Initial Data Exploration</a>\n",
    "\n",
    "## <a id=\"h2_0\">Class Distribution</a>\n",
    "\n",
    "I first want to get a sense for the number of instances there are per manufacturer since I know there are 100 images per aircraft model (the highest level of granularity), but have no sense for how evenly distributed those are among the lower class granularity levels.\n",
    "\n",
    "This is important since for training purposes I want my data to have an approximately even distribution to avoid imbalanced classification results."
   ],
   "metadata": {}
  },
  {
   "cell_type": "code",
   "execution_count": 54,
   "source": [
    "# Check how many images there are per manufacturer (the lowest level of glanularity)\n",
    "def class_count(file):\n",
    "    classes = pd.read_csv(file, sep=\" \", header=None, \n",
    "        names=[\"Image\", \"Class\"], skip_blank_lines=True)\n",
    "    \n",
    "    counts = classes['Class'].value_counts()\n",
    "\n",
    "    # Interested in classes with at least 100 instances (reasonable quantity)\n",
    "    return counts[counts >= 100]\n",
    "\n",
    "class_count(f'{data_dir}/images_manufacturer_train.txt')\n"
   ],
   "outputs": [
    {
     "output_type": "execute_result",
     "data": {
      "text/plain": [
       "Boeing       733\n",
       "Airbus       434\n",
       "Embraer      233\n",
       "McDonnell    232\n",
       "de           167\n",
       "Canadair     134\n",
       "Douglas      133\n",
       "Cessna       133\n",
       "British      133\n",
       "Lockheed     102\n",
       "Fokker       100\n",
       "Name: Class, dtype: int64"
      ]
     },
     "metadata": {},
     "execution_count": 54
    }
   ],
   "metadata": {}
  },
  {
   "cell_type": "code",
   "execution_count": null,
   "source": [
    "\n",
    "# all_imgs = os.listdir(img_dir)"
   ],
   "outputs": [],
   "metadata": {}
  },
  {
   "cell_type": "markdown",
   "source": [
    "\n",
    "Before exploring the data it's obvious from a brief inspection that some preprocessing needs to be done to homogenise the images so that they share the same features and can be more directly compared."
   ],
   "metadata": {}
  },
  {
   "cell_type": "markdown",
   "source": [
    "\n",
    "## <a id=\"h2_1\">Direct Comparison</a>\n",
    "\n",
    "The following code pulls 3 random sample images from each class for an initial direct visual comparison.\n",
    "\n",
    "It's clear from a quick visual inspection that the pollen carrying bees have distinct features (the pollen) on either side of their abdomen which isn't present in the other images. This suggests to me it should be fine to process the images in greyscale and reduce the number of features for efficiency since they should still be distinguishable."
   ],
   "metadata": {}
  },
  {
   "cell_type": "markdown",
   "source": [
    "## <a id=\"h2_2\">Conversion to Pixel Data</a>\n",
    "\n",
    "The following script is converting greyscale versions of the image files into a 3rd order tensor with $n\\times m$ elements. $n$ is the number of observations and $m$ is the number of pixels (features). The element values represent the pixel shade."
   ],
   "metadata": {}
  },
  {
   "cell_type": "markdown",
   "source": [
    "## <a id=\"h2_3\">Average Images</a>\n",
    "\n",
    "By averaging the pixel data for all of a given class, I can get a sense for the regions which are common to each class. It's not as clear as before, but there's still an obvious presence on either side of the abdomen for the pollen carrying class which isn't present in the other images."
   ],
   "metadata": {}
  },
  {
   "cell_type": "markdown",
   "source": [
    "### Average Images Difference\n",
    "\n",
    "The difference between the classes becomes clearer by taking the difference of these two averaged images. Now it's much more obvious that one class (pollen carrier) has a distinct region of pixels in the lower left and a less distinct region in the lower right."
   ],
   "metadata": {}
  },
  {
   "cell_type": "markdown",
   "source": [
    "## <a id=\"h2_4\">Standard Deviation</a>\n",
    "\n",
    "To get a sense of the pixel regions which vary the most in each class, the same reasoning of averaging can be applied, but instead taking the standard deviation. The resulting images aren't as clear, but here I can see a lot more varience in those lower left and right regions for the pollen carrying class. This reinforces my understanding of the data."
   ],
   "metadata": {}
  },
  {
   "cell_type": "markdown",
   "source": [
    "# <a id=\"ack\">Acknowledgement</a>\n",
    "\n",
    "FGVC-Aircraft data set:\n",
    "\n",
    "Fine-Grained Visual Classification of Aircraft, S. Maji, J. Kannala, E. Rahtu, M. Blaschko, A. Vedaldi, [arXiv.org](https://arxiv.org/abs/1306.5151), 2013\n",
    "\n",
    "Image Data Exploration Code adapted from: [https://towardsdatascience.com/exploratory-data-analysis-ideas-for-image-classification-d3fc6bbfb2d2](https://towardsdatascience.com/exploratory-data-analysis-ideas-for-image-classification-d3fc6bbfb2d2)"
   ],
   "metadata": {}
  }
 ],
 "metadata": {
  "orig_nbformat": 4,
  "language_info": {
   "name": "python",
   "version": "3.8.11",
   "mimetype": "text/x-python",
   "codemirror_mode": {
    "name": "ipython",
    "version": 3
   },
   "pygments_lexer": "ipython3",
   "nbconvert_exporter": "python",
   "file_extension": ".py"
  },
  "kernelspec": {
   "name": "python3",
   "display_name": "Python 3.8.11 64-bit ('dmml': conda)"
  },
  "interpreter": {
   "hash": "238e84a50bd85e6896fa827f44429e675207169bc4aaa396c9b81005f50b7995"
  }
 },
 "nbformat": 4,
 "nbformat_minor": 2
}